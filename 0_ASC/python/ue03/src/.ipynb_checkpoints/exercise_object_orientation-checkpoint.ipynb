{
 "cells": [
  {
   "cell_type": "markdown",
   "metadata": {},
   "source": [
    "# Exercise 3\n",
    "Object orienteted programming in python"
   ]
  },
  {
   "cell_type": "code",
   "execution_count": 11,
   "metadata": {},
   "outputs": [
    {
     "name": "stdout",
     "output_type": "stream",
     "text": [
      "python version: 3.7.4\n"
     ]
    }
   ],
   "source": [
    "import sys\n",
    "\n",
    "version_str = str(sys.version_info[0]) + \".\" + str(sys.version_info[1]) + \".\" + str(sys.version_info[2])\n",
    "\n",
    "print(\"python version: \" + version_str)"
   ]
  },
  {
   "cell_type": "markdown",
   "metadata": {},
   "source": [
    "## Important stuff\n",
    "* operator overloading\n",
    "* prefix of self if instance based vars\n",
    "* other stuff is static\n",
    "* _ prefix: weak private\n",
    "* __ prefix: strong private"
   ]
  },
  {
   "cell_type": "markdown",
   "metadata": {},
   "source": [
    "### Example: Pinwall"
   ]
  },
  {
   "cell_type": "code",
   "execution_count": 12,
   "metadata": {},
   "outputs": [
    {
     "data": {
      "text/plain": [
       "1"
      ]
     },
     "execution_count": 12,
     "metadata": {},
     "output_type": "execute_result"
    }
   ],
   "source": [
    "tupel = (\"asdf\", 1)\n",
    "tupel[1]"
   ]
  },
  {
   "cell_type": "code",
   "execution_count": 46,
   "metadata": {},
   "outputs": [],
   "source": [
    "class pinboard:\n",
    "    keywords = [\"dringend\", \"wichtig\"]\n",
    "\n",
    "    def __init__(self):\n",
    "        self.__notes = []\n",
    "        \n",
    "    def add_note(self, note):\n",
    "        self.__notes.append((note, pinboard.__get_importance(self, note)))\n",
    "        self.__notes.sort(key=lambda tup: tup[1],reverse=True)\n",
    "        \n",
    "    def __get_importance(self, note):\n",
    "        imp = 0\n",
    "        for word in note:\n",
    "            if word.lower() in pinboard.keywords: imp += 1\n",
    "        return imp + note.count(\"!\")\n",
    "    \n",
    "    def remove(self):\n",
    "        return self.__notes.pop()       \n",
    "    \n",
    "    def __str__(self):\n",
    "        description = \"Notiz: \\n\"\n",
    "        for note in self.__notes:\n",
    "            description += note[0]\n",
    "            description += \"(Prio: \" + str(note[1]) + \")\\n\"\n",
    "        return description"
   ]
  },
  {
   "cell_type": "code",
   "execution_count": 47,
   "metadata": {},
   "outputs": [
    {
     "data": {
      "text/plain": [
       "'Notiz: \\nDies ist besonders wichtig!(Prio: 1)\\nDies ist besonders dringed und wichtig!(Prio: 1)\\nDies ist besonders dringed(Prio: 0)\\n'"
      ]
     },
     "execution_count": 47,
     "metadata": {},
     "output_type": "execute_result"
    }
   ],
   "source": [
    "p1 = pinboard()\n",
    "\n",
    "p1.add_note(\"Dies ist besonders wichtig!\")\n",
    "p1.add_note(\"Dies ist besonders dringend und wichtig!\")\n",
    "p1.add_note(\"Dies ist besonders dringend\")\n",
    "\n",
    "str(p1)"
   ]
  },
  {
   "cell_type": "code",
   "execution_count": null,
   "metadata": {},
   "outputs": [],
   "source": [
    "# TODO\n",
    "class gui:\n",
    "    __menutext = \"\"\"\n",
    "        (N)eue Notiz                             (A)nzeigen\n",
    "        (L)ösche Notiz mit höchter Prio          (E)nde\n",
    "    \"\"\"\n",
    "    \n",
    "    def __init__(self, pinboard):\n",
    "        self.__pinboard = pinboard\n",
    "        \n",
    "    def get_next(self):\n",
    "        command = input(self.__menutext)\n",
    "        if command == \"N\":\n",
    "            while True:\n",
    "                note = input(\"Notiz: \")\n",
    "                if note != \"\":\n",
    "                    self.__pinboard.add_note(note)\n",
    "                else:\n",
    "                    break\n",
    "        elif command == \"A\":\n",
    "            print(str(self.__pinboard))\n",
    "        elif command == \"L\":\n",
    "            self.__pinboard.remove()\n",
    "        else:\n",
    "            exit()\n",
    "        self.get_next()        "
   ]
  },
  {
   "cell_type": "code",
   "execution_count": null,
   "metadata": {},
   "outputs": [
    {
     "name": "stdout",
     "output_type": "stream",
     "text": [
      "\n",
      "        (N)eue Notiz                             (A)nzeigen\n",
      "        (L)ösche Notiz mit höchter Prio          (E)nde\n",
      "    N\n",
      "Notiz: a\n",
      "\n",
      "        (N)eue Notiz                             (A)nzeigen\n",
      "        (L)ösche Notiz mit höchter Prio          (E)nde\n",
      "    \n",
      "\n",
      "        (N)eue Notiz                             (A)nzeigen\n",
      "        (L)ösche Notiz mit höchter Prio          (E)nde\n",
      "    \n",
      "\n",
      "        (N)eue Notiz                             (A)nzeigen\n",
      "        (L)ösche Notiz mit höchter Prio          (E)nde\n",
      "    \n",
      "\n",
      "        (N)eue Notiz                             (A)nzeigen\n",
      "        (L)ösche Notiz mit höchter Prio          (E)nde\n",
      "    E\n",
      "\n",
      "        (N)eue Notiz                             (A)nzeigen\n",
      "        (L)ösche Notiz mit höchter Prio          (E)nde\n",
      "    E\n",
      "\n",
      "        (N)eue Notiz                             (A)nzeigen\n",
      "        (L)ösche Notiz mit höchter Prio          (E)nde\n",
      "    E\n"
     ]
    }
   ],
   "source": [
    "p2 = pinboard()\n",
    "\n",
    "g1 = gui(p2)\n",
    "\n",
    "g1.get_next()"
   ]
  },
  {
   "cell_type": "code",
   "execution_count": null,
   "metadata": {},
   "outputs": [],
   "source": []
  }
 ],
 "metadata": {
  "kernelspec": {
   "display_name": "Python 3",
   "language": "python",
   "name": "python3"
  },
  "language_info": {
   "codemirror_mode": {
    "name": "ipython",
    "version": 3
   },
   "file_extension": ".py",
   "mimetype": "text/x-python",
   "name": "python",
   "nbconvert_exporter": "python",
   "pygments_lexer": "ipython3",
   "version": "3.7.4"
  }
 },
 "nbformat": 4,
 "nbformat_minor": 2
}
